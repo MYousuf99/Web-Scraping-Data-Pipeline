{
 "cells": [
  {
   "cell_type": "code",
   "execution_count": 1,
   "metadata": {},
   "outputs": [
    {
     "name": "stderr",
     "output_type": "stream",
     "text": [
      "\n",
      "\n",
      "====== WebDriver manager ======\n",
      "Current google-chrome version is 100.0.4896\n",
      "Get LATEST chromedriver version for 100.0.4896 google-chrome\n",
      "Driver [/Users/nasir/.wdm/drivers/chromedriver/mac64/100.0.4896.60/chromedriver] found in cache\n"
     ]
    }
   ],
   "source": [
    "from scraper import Scraper\n",
    "bot = Scraper()"
   ]
  },
  {
   "cell_type": "code",
   "execution_count": 2,
   "metadata": {},
   "outputs": [],
   "source": [
    "bot.accept_cookies()"
   ]
  },
  {
   "cell_type": "code",
   "execution_count": 13,
   "metadata": {},
   "outputs": [],
   "source": [
    "\n",
    "from getpass import getuser\n",
    "from getpass import getpass\n",
    "from gettext import gettext\n",
    "from selenium import webdriver\n",
    "from selenium.webdriver.common.keys import Keys\n",
    "from selenium.webdriver.common.by import By\n",
    "from selenium.webdriver.support.ui import WebDriverWait\n",
    "from selenium.webdriver.support import expected_conditions as EC\n",
    "from selenium.common.exceptions import TimeoutException\n",
    "from selenium.common.exceptions import NoSuchElementException\n",
    "import time\n",
    "import pandas as pd \n",
    "\n",
    "\n",
    "username = bot.driver.find_element(By.XPATH, '//*[@id=\"session_key\"]')\n",
    "my_username = input()\n",
    "username.send_keys(my_username)"
   ]
  },
  {
   "cell_type": "code",
   "execution_count": 3,
   "metadata": {},
   "outputs": [
    {
     "ename": "TypeError",
     "evalue": "gettext() missing 1 required positional argument: 'message'",
     "output_type": "error",
     "traceback": [
      "\u001b[0;31m---------------------------------------------------------------------------\u001b[0m",
      "\u001b[0;31mTypeError\u001b[0m                                 Traceback (most recent call last)",
      "\u001b[1;32m/Users/nasir/Aicore/Data_pipeline/lag_zero_scrape.ipynb Cell 3'\u001b[0m in \u001b[0;36m<cell line: 1>\u001b[0;34m()\u001b[0m\n\u001b[0;32m----> <a href='vscode-notebook-cell:/Users/nasir/Aicore/Data_pipeline/lag_zero_scrape.ipynb#ch0000003?line=0'>1</a>\u001b[0m bot\u001b[39m.\u001b[39;49muser_name()\n",
      "File \u001b[0;32m~/Aicore/Data_pipeline/scraper.py:49\u001b[0m, in \u001b[0;36mScraper.user_name\u001b[0;34m(self, xpath)\u001b[0m\n\u001b[1;32m     <a href='file:///Users/nasir/Aicore/Data_pipeline/scraper.py?line=46'>47</a>\u001b[0m \u001b[39mdef\u001b[39;00m \u001b[39muser_name\u001b[39m(\u001b[39mself\u001b[39m, xpath: \u001b[39mstr\u001b[39m \u001b[39m=\u001b[39m \u001b[39m'\u001b[39m\u001b[39m//*[@id=\u001b[39m\u001b[39m\"\u001b[39m\u001b[39msession_key\u001b[39m\u001b[39m\"\u001b[39m\u001b[39m]\u001b[39m\u001b[39m'\u001b[39m):\n\u001b[1;32m     <a href='file:///Users/nasir/Aicore/Data_pipeline/scraper.py?line=47'>48</a>\u001b[0m     username \u001b[39m=\u001b[39m \u001b[39mself\u001b[39m\u001b[39m.\u001b[39mdriver\u001b[39m.\u001b[39mfind_element(By\u001b[39m.\u001b[39mXPATH, xpath)\n\u001b[0;32m---> <a href='file:///Users/nasir/Aicore/Data_pipeline/scraper.py?line=48'>49</a>\u001b[0m     my_username \u001b[39m=\u001b[39m gettext()\n\u001b[1;32m     <a href='file:///Users/nasir/Aicore/Data_pipeline/scraper.py?line=49'>50</a>\u001b[0m     username\u001b[39m.\u001b[39msend_keys(my_username)\n\u001b[1;32m     <a href='file:///Users/nasir/Aicore/Data_pipeline/scraper.py?line=50'>51</a>\u001b[0m     username\u001b[39m.\u001b[39msend_keys(Keys\u001b[39m.\u001b[39mRETURN)\n",
      "\u001b[0;31mTypeError\u001b[0m: gettext() missing 1 required positional argument: 'message'"
     ]
    }
   ],
   "source": [
    "bot.user_name() "
   ]
  },
  {
   "cell_type": "code",
   "execution_count": 14,
   "metadata": {},
   "outputs": [],
   "source": [
    "bot.pass_word()"
   ]
  },
  {
   "cell_type": "code",
   "execution_count": 28,
   "metadata": {},
   "outputs": [],
   "source": [
    "bot.driver.maximize_window()"
   ]
  },
  {
   "cell_type": "code",
   "execution_count": 15,
   "metadata": {},
   "outputs": [],
   "source": [
    "from getpass import getpass\n",
    "from selenium import webdriver\n",
    "from selenium.webdriver.common.keys import Keys\n",
    "from selenium.webdriver.common.by import By\n",
    "from selenium.webdriver.support.ui import WebDriverWait\n",
    "from selenium.webdriver.support import expected_conditions as EC\n",
    "from selenium.common.exceptions import TimeoutException\n",
    "from selenium.common.exceptions import NoSuchElementException\n",
    "import time\n",
    "import pandas as pd \n",
    "\n",
    "from webdriver_manager.chrome import ChromeDriverManager\n",
    " \n",
    "\n",
    "\n",
    "time.sleep(0.5)\n",
    "WebDriverWait(bot.driver, 10).until(EC.presence_of_element_located)\n",
    "engine = bot.driver.find_element(By.XPATH , '//*[@id=\"global-nav-typeahead\"]/input')\n",
    "engine.send_keys('Data Science')\n",
    "engine.send_keys(Keys.RETURN)\n",
    "bot.driver.maximize_window()\n"
   ]
  },
  {
   "cell_type": "code",
   "execution_count": null,
   "metadata": {},
   "outputs": [],
   "source": [
    "from getpass import getpass\n",
    "from selenium import webdriver\n",
    "from selenium.webdriver.common.keys import Keys\n",
    "from selenium.webdriver.common.by import By\n",
    "from selenium.webdriver.support.ui import WebDriverWait\n",
    "from selenium.webdriver.support import expected_conditions as EC\n",
    "from selenium.common.exceptions import TimeoutException\n",
    "from selenium.common.exceptions import NoSuchElementException\n",
    "from selenium.common.exceptions import ElementClickInterceptedException\n",
    "import time\n",
    "\n",
    "from webdriver_manager.chrome import ChromeDriverManager\n",
    "job_dict = {\n",
    "            'Link': [],\n",
    "            'Title': [],\n",
    "            'Location': [],\n",
    "        \n",
    "        }\n",
    "\n",
    "time.sleep(1)\n",
    "try:\n",
    "    nn = int(bot.driver.find_element(By.XPATH,'/html/body/div[7]/div[3]/div[3]/div[2]/div/section[1]/div/div/section/div/ul/li[10]/button/span').text)\n",
    "    n = nn+2\n",
    "except NoSuchElementException:\n",
    "    nn = int(bot.driver.find_element(By.XPATH,'/html/body/div[6]/div[3]/div[3]/div[2]/div/section[1]/div/div/section/div/ul/li[10]/button/span').text)\n",
    "    n = nn+2\n",
    "for i in range(n):\n",
    "    time.sleep(0.5)\n",
    "    try:\n",
    "        number_container = bot.driver.find_element(By.XPATH,'/html/body/div[6]/div[3]/div[3]/div[2]/div/section[1]/div/div/section/div/ul')\n",
    "        pages = number_container.find_elements(By.XPATH, './li')\n",
    "    except NoSuchElementException:\n",
    "        number_container = bot.driver.find_element(By.XPATH,'/html/body/div[7]/div[3]/div[3]/div[2]/div/section[1]/div/div/section/div/ul')\n",
    "        pages = number_container.find_elements(By.XPATH, './li')\n",
    "    if i == 0:\n",
    "        return None\n",
    "    if 0<i and i<9:\n",
    "        time.sleep(2)\n",
    "        pages[i].click()\n",
    "    elif 9 < i and i <range(n)[-8] :\n",
    "        time.sleep(2)\n",
    "        pages[6].click()\n",
    "    elif i> range(n)[-8]:\n",
    "        time.sleep(2)\n",
    "        pages[i-range(n)[-10]].click()\n",
    "    \n",
    "    time.sleep(1)\n",
    "    y = 1000\n",
    "    for timer in range(0,5):\n",
    "        bot.driver.execute_script(\"window.scrollTo(0, \"+str(y)+\")\")\n",
    "        y += 1000  \n",
    "        time.sleep(1)\n",
    "    try:\n",
    "        container = bot.driver.find_element(By.XPATH,'/html/body/div[7]/div[3]/div[3]/div[2]/div/section[1]/div/div/ul')\n",
    "        job_list = container.find_elements(By.XPATH,'./li')\n",
    "    except NoSuchElementException:\n",
    "        container = bot.driver.find_element(By.XPATH,'/html/body/div[6]/div[3]/div[3]/div[2]/div/section[1]/div/div/ul')\n",
    "        job_list = container.find_elements(By.XPATH,'./li')\n",
    "\n",
    "    \n",
    "    time.sleep(1)\n",
    "    link_list = []\n",
    "    for jobs in job_list:\n",
    "        link_list.append(jobs.find_element(By.TAG_NAME, 'a').get_attribute('href'))\n",
    "\n",
    "    for j in range(25):\n",
    "\n",
    "        job_list[j].click()\n",
    "        try:\n",
    "            title = bot.driver.find_element(By.TAG_NAME, 'h1')\n",
    "            job_dict['Title'].append(title.text)\n",
    "        except NoSuchElementException:\n",
    "            job_dict['Title'].append('No Title')\n",
    "        try:\n",
    "            location = bot.driver.find_element(By.XPATH, '/html/body/div[7]/div[3]/div/div[1]/div[1]/div/div[1]/div/div[2]/div[1]/span[1]/span[2]')\n",
    "            job_dict['Location'].append(location.text)\n",
    "        except NoSuchElementException:\n",
    "            location = bot.driver.find_element(By.XPATH, '/html/body/div[6]/div[3]/div/div[1]/div[1]/div/div[1]/div/div[2]/div[1]/span[1]/span[2]')\n",
    "            job_dict['Location'].append(location.text)"
   ]
  },
  {
   "cell_type": "code",
   "execution_count": null,
   "metadata": {},
   "outputs": [],
   "source": [
    "from getpass import getpass\n",
    "from selenium import webdriver\n",
    "from selenium.webdriver.common.keys import Keys\n",
    "from selenium.webdriver.common.by import By\n",
    "from selenium.webdriver.support.ui import WebDriverWait\n",
    "from selenium.webdriver.support import expected_conditions as EC\n",
    "from selenium.common.exceptions import TimeoutException\n",
    "from selenium.common.exceptions import NoSuchElementException\n",
    "from selenium.common.exceptions import ElementClickInterceptedException\n",
    "import time\n",
    "\n",
    "from webdriver_manager.chrome import ChromeDriverManager\n",
    "\n",
    "job_list[1].find_element(By.XPATH, "
   ]
  },
  {
   "cell_type": "code",
   "execution_count": 1,
   "metadata": {},
   "outputs": [
    {
     "name": "stdout",
     "output_type": "stream",
     "text": [
      "0\n",
      "1\n",
      "2\n",
      "3\n",
      "4\n",
      "5\n",
      "6\n",
      "7\n",
      "8\n",
      "9\n",
      "10\n",
      "11\n",
      "12\n",
      "13\n",
      "14\n",
      "15\n",
      "16\n",
      "17\n",
      "18\n",
      "19\n",
      "20\n",
      "21\n",
      "22\n",
      "23\n",
      "24\n",
      "25\n",
      "26\n",
      "27\n",
      "28\n",
      "29\n",
      "30\n",
      "31\n",
      "32\n",
      "33\n",
      "34\n",
      "35\n",
      "36\n",
      "37\n",
      "38\n",
      "39\n",
      "40\n",
      "41\n"
     ]
    }
   ],
   "source": [
    "for i in range(42):\n",
    "    print(i)"
   ]
  },
  {
   "cell_type": "code",
   "execution_count": null,
   "metadata": {},
   "outputs": [],
   "source": [
    "from getpass import getpass\n",
    "from selenium import webdriver\n",
    "from selenium.webdriver.common.keys import Keys\n",
    "from selenium.webdriver.common.by import By\n",
    "from selenium.webdriver.support.ui import WebDriverWait\n",
    "from selenium.webdriver.support import expected_conditions as EC\n",
    "from selenium.common.exceptions import TimeoutException\n",
    "from selenium.common.exceptions import NoSuchElementException\n",
    "from selenium.common.exceptions import ElementClickInterceptedException\n",
    "import time\n",
    "\n",
    "from webdriver_manager.chrome import ChromeDriverManager\n",
    "\n",
    "job_list[1].find_element(By.XPATH, './a')"
   ]
  },
  {
   "cell_type": "code",
   "execution_count": null,
   "metadata": {},
   "outputs": [],
   "source": []
  }
 ],
 "metadata": {
  "interpreter": {
   "hash": "6050bdfb4e4dc76470d8402db53fdf80e721a716d7c7537d559378d729ce8761"
  },
  "kernelspec": {
   "display_name": "Python 3.9.7 ('base')",
   "language": "python",
   "name": "python3"
  },
  "language_info": {
   "codemirror_mode": {
    "name": "ipython",
    "version": 3
   },
   "file_extension": ".py",
   "mimetype": "text/x-python",
   "name": "python",
   "nbconvert_exporter": "python",
   "pygments_lexer": "ipython3",
   "version": "3.9.7"
  },
  "orig_nbformat": 4
 },
 "nbformat": 4,
 "nbformat_minor": 2
}
